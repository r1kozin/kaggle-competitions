{
 "cells": [
  {
   "cell_type": "code",
   "execution_count": 1,
   "metadata": {},
   "outputs": [],
   "source": [
    "import warnings\n",
    "warnings.filterwarnings('ignore')\n",
    "import pandas as pd\n",
    "import numpy as np"
   ]
  },
  {
   "cell_type": "code",
   "execution_count": 2,
   "metadata": {},
   "outputs": [],
   "source": [
    "dataset = pd.read_csv('C:/ds/train.csv')\n",
    "X_test = pd.read_csv('C:/ds/test.csv')"
   ]
  },
  {
   "cell_type": "code",
   "execution_count": 3,
   "metadata": {},
   "outputs": [],
   "source": [
    "dataset_title = [i.split(',')[1].split('.')[0].strip() for i in dataset['Name']]\n",
    "dataset['Title'] = pd.Series(dataset_title)\n",
    "dataset['Title'].value_counts()\n",
    "dataset['Title'] = dataset['Title'].replace(['Lady', 'the Countess', 'Countess', 'Capt',\n",
    "                                             'Col', 'Don', 'Dr', 'Major', 'Rev', 'Sir',\n",
    "                                             'Jonkheer', 'Dona', 'Ms', 'Mme', 'Mlle'], 'Rare')\n",
    "\n",
    "dataset_title = [i.split(',')[1].split('.')[0].strip() for i in X_test['Name']]\n",
    "X_test['Title'] = pd.Series(dataset_title)\n",
    "X_test['Title'].value_counts()\n",
    "X_test['Title'] = X_test['Title'].replace(['Lady', 'the Countess', 'Countess', 'Capt',\n",
    "                                           'Col', 'Don', 'Dr', 'Major', 'Rev', 'Sir',\n",
    "                                           'Jonkheer', 'Dona', 'Ms', 'Mme', 'Mlle'], 'Rare')\n",
    "\n",
    "dataset['FamilyS'] = dataset['SibSp'] + dataset['Parch'] + 1\n",
    "X_test['FamilyS'] = X_test['SibSp'] + X_test['Parch'] + 1"
   ]
  },
  {
   "cell_type": "code",
   "execution_count": 4,
   "metadata": {},
   "outputs": [],
   "source": [
    "def family(x):\n",
    "    if x < 2:\n",
    "        return 'Single'\n",
    "    elif x == 2:\n",
    "        return 'Couple'\n",
    "    elif x <= 4:\n",
    "        return 'InterM'\n",
    "    else:\n",
    "        return 'Large'\n",
    "    \n",
    "dataset['FamilyS'] = dataset['FamilyS'].apply(family)\n",
    "X_test['FamilyS'] = X_test['FamilyS'].apply(family)"
   ]
  },
  {
   "cell_type": "code",
   "execution_count": 5,
   "metadata": {},
   "outputs": [],
   "source": [
    "dataset['Embarked'].fillna(dataset['Embarked'].mode()[0], inplace=True)\n",
    "X_test['Embarked'].fillna(X_test['Embarked'].mode()[0], inplace=True)\n",
    "\n",
    "dataset['Age'].fillna(dataset['Age'].median(), inplace=True)\n",
    "X_test['Age'].fillna(X_test['Age'].median(), inplace=True)\n",
    "X_test['Fare'].fillna(X_test['Fare'].median(), inplace=True)"
   ]
  },
  {
   "cell_type": "code",
   "execution_count": 6,
   "metadata": {},
   "outputs": [],
   "source": [
    "dataset = dataset.drop(['PassengerId', 'Cabin', 'Name', 'SibSp', 'Parch', 'Ticket'], axis=1)\n",
    "X_test_passengers = X_test['PassengerId']\n",
    "X_test = X_test.drop(['PassengerId', 'Cabin', 'Name', 'SibSp', 'Parch', 'Ticket'], axis=1)"
   ]
  },
  {
   "cell_type": "code",
   "execution_count": 7,
   "metadata": {},
   "outputs": [],
   "source": [
    "X_train = dataset.iloc[:, 1:9].values\n",
    "Y_train = dataset.iloc[:, 0].values\n",
    "X_test = X_test.values"
   ]
  },
  {
   "cell_type": "code",
   "execution_count": 8,
   "metadata": {},
   "outputs": [],
   "source": [
    "from sklearn.preprocessing import LabelEncoder, OneHotEncoder\n",
    "labelencoder_X_1 = LabelEncoder()\n",
    "X_train[:, 1] = labelencoder_X_1.fit_transform(X_train[:, 1])\n",
    "X_train[:, 4] = labelencoder_X_1.fit_transform(X_train[:, 4])\n",
    "X_train[:, 5] = labelencoder_X_1.fit_transform(X_train[:, 5])\n",
    "X_train[:, 6] = labelencoder_X_1.fit_transform(X_train[:, 6])\n",
    "\n",
    "labelencoder_X_2 = LabelEncoder()\n",
    "X_test[:, 1] = labelencoder_X_2.fit_transform(X_test[:, 1])\n",
    "X_test[:, 4] = labelencoder_X_2.fit_transform(X_test[:, 4])\n",
    "X_test[:, 5] = labelencoder_X_2.fit_transform(X_test[:, 5])\n",
    "X_test[:, 6] = labelencoder_X_2.fit_transform(X_test[:, 6])"
   ]
  },
  {
   "cell_type": "code",
   "execution_count": 9,
   "metadata": {},
   "outputs": [
    {
     "name": "stderr",
     "output_type": "stream",
     "text": [
      "C:\\Anacondaa\\lib\\site-packages\\sklearn\\preprocessing\\_encoders.py:451: DeprecationWarning: The 'categorical_features' keyword is deprecated in version 0.20 and will be removed in 0.22. You can use the ColumnTransformer instead.\n",
      "  \"use the ColumnTransformer instead.\", DeprecationWarning)\n",
      "C:\\Anacondaa\\lib\\site-packages\\sklearn\\preprocessing\\_encoders.py:451: DeprecationWarning: The 'categorical_features' keyword is deprecated in version 0.20 and will be removed in 0.22. You can use the ColumnTransformer instead.\n",
      "  \"use the ColumnTransformer instead.\", DeprecationWarning)\n"
     ]
    }
   ],
   "source": [
    "one_hot_encoder = OneHotEncoder(categorical_features = [0, 1, 4, 5, 6])\n",
    "X_train = one_hot_encoder.fit_transform(X_train).toarray()\n",
    "X_test = one_hot_encoder.fit_transform(X_test).toarray()"
   ]
  },
  {
   "cell_type": "code",
   "execution_count": 10,
   "metadata": {},
   "outputs": [],
   "source": [
    "import torch\n",
    "import torch.nn as nn\n",
    "import torch.nn.functional as F\n",
    "\n",
    "class Net(nn.Module):\n",
    "    \n",
    "    def __init__(self):\n",
    "        super(Net, self).__init__()\n",
    "        self.fc1 = nn.Linear(19, 114)\n",
    "        self.fc2 = nn.Linear(114, 228)\n",
    "        self.fc3 = nn.Linear(228, 2)\n",
    "        \n",
    "    def forward(self, x):\n",
    "        x = self.fc1(x)\n",
    "        x = F.relu(x)\n",
    "        x = self.fc2(x)\n",
    "        x = F.relu(x)\n",
    "        x = self.fc3(x)\n",
    "        \n",
    "        x = F.sigmoid(x)\n",
    "        \n",
    "        return x\n",
    "    \n",
    "net = Net()"
   ]
  },
  {
   "cell_type": "code",
   "execution_count": 11,
   "metadata": {},
   "outputs": [],
   "source": [
    "batch_size = 32\n",
    "num_epochs = 100\n",
    "learning_rate = 0.0001\n",
    "batch_no = len(X_train) // batch_size"
   ]
  },
  {
   "cell_type": "code",
   "execution_count": 12,
   "metadata": {},
   "outputs": [],
   "source": [
    "criterion = nn.CrossEntropyLoss()\n",
    "optimizer = torch.optim.Adam(net.parameters(), lr=learning_rate) #saves state and updates when gradient is counted"
   ]
  },
  {
   "cell_type": "code",
   "execution_count": 13,
   "metadata": {},
   "outputs": [],
   "source": [
    "from sklearn.utils import shuffle\n",
    "from torch.autograd import Variable\n",
    "\n",
    "for epoch in range(num_epochs):\n",
    "    X_train, Y_train = shuffle(X_train, Y_train)\n",
    "    \n",
    "    for i in range(batch_no):\n",
    "        start = i * batch_size\n",
    "        end = start + batch_size\n",
    "        x = Variable(torch.FloatTensor(X_train[start:end]))\n",
    "        y = Variable(torch.LongTensor(Y_train[start:end]))\n",
    "    \n",
    "        optimizer.zero_grad() #Clears the gradients of all optimized torch.Tensors.\n",
    "        pred = net(x)\n",
    "        loss =criterion(pred, y)\n",
    "        loss.backward() \n",
    "        optimizer.step() #updates parameters"
   ]
  },
  {
   "cell_type": "code",
   "execution_count": 15,
   "metadata": {},
   "outputs": [],
   "source": [
    "X_test_var = Variable(torch.FloatTensor(X_test), requires_grad=True) \n",
    "with torch.no_grad():\n",
    "    test_result = net(X_test_var)\n",
    "_, labels = torch.max(test_result, 1)\n",
    "survived = labels.data.numpy()"
   ]
  },
  {
   "cell_type": "code",
   "execution_count": 18,
   "metadata": {},
   "outputs": [
    {
     "name": "stdout",
     "output_type": "stream",
     "text": [
      "tensor([0, 0, 0, 0, 1, 0, 1, 0, 1, 0, 0, 0, 1, 0, 1, 1, 0, 0, 0, 0, 0, 0, 1, 1,\n",
      "        1, 0, 1, 0, 0, 0, 0, 0, 1, 1, 0, 0, 1, 1, 0, 0, 0, 0, 0, 1, 1, 0, 0, 0,\n",
      "        1, 1, 0, 0, 1, 1, 0, 0, 0, 0, 0, 1, 0, 0, 0, 1, 1, 1, 1, 0, 0, 1, 1, 0,\n",
      "        0, 0, 1, 1, 0, 1, 0, 1, 1, 1, 0, 0, 0, 0, 1, 1, 1, 1, 1, 0, 1, 0, 0, 0,\n",
      "        1, 0, 1, 0, 1, 0, 0, 0, 1, 0, 0, 0, 0, 0, 0, 1, 1, 1, 1, 0, 0, 1, 0, 1,\n",
      "        1, 0, 1, 0, 0, 1, 0, 1, 0, 0, 0, 1, 0, 0, 0, 0, 0, 0, 1, 0, 0, 1, 0, 0,\n",
      "        0, 0, 0, 0, 0, 0, 1, 0, 0, 1, 0, 0, 1, 1, 0, 1, 1, 1, 1, 0, 0, 1, 0, 0,\n",
      "        1, 1, 0, 0, 0, 0, 0, 1, 1, 0, 1, 1, 0, 1, 1, 0, 1, 0, 1, 0, 0, 0, 0, 0,\n",
      "        0, 0, 1, 0, 1, 1, 0, 1, 1, 1, 1, 1, 0, 0, 1, 0, 1, 0, 0, 0, 0, 1, 0, 0,\n",
      "        1, 1, 1, 0, 1, 0, 1, 0, 1, 1, 0, 1, 0, 0, 0, 1, 0, 0, 0, 0, 0, 0, 1, 1,\n",
      "        1, 1, 1, 0, 0, 0, 1, 0, 1, 1, 1, 0, 1, 0, 0, 0, 0, 0, 1, 0, 0, 0, 1, 1,\n",
      "        0, 0, 0, 0, 1, 0, 0, 0, 1, 1, 0, 1, 0, 0, 0, 0, 1, 1, 1, 1, 1, 0, 0, 0,\n",
      "        0, 0, 0, 1, 0, 1, 0, 0, 1, 0, 0, 0, 0, 0, 0, 0, 1, 1, 1, 1, 0, 0, 0, 0,\n",
      "        0, 1, 1, 1, 1, 0, 0, 0, 0, 0, 0, 0, 1, 0, 1, 0, 0, 0, 1, 0, 0, 1, 0, 0,\n",
      "        0, 0, 0, 0, 0, 0, 0, 1, 0, 1, 0, 0, 0, 1, 1, 0, 0, 0, 1, 0, 1, 0, 0, 1,\n",
      "        0, 1, 1, 0, 1, 0, 0, 1, 1, 0, 0, 1, 0, 0, 1, 1, 1, 0, 0, 0, 0, 0, 1, 1,\n",
      "        0, 1, 0, 0, 0, 0, 0, 1, 0, 0, 0, 1, 0, 1, 0, 0, 1, 0, 1, 0, 0, 0, 0, 1,\n",
      "        1, 1, 1, 1, 0, 0, 1, 0, 0, 0])\n"
     ]
    }
   ],
   "source": [
    "print(labels)"
   ]
  },
  {
   "cell_type": "code",
   "execution_count": 16,
   "metadata": {},
   "outputs": [],
   "source": [
    "import csv\n",
    "\n",
    "submission = [['PassengerId', 'Survived']]\n",
    "for i in range(len(survived)):\n",
    "    submission.append([X_test_passengers[i], survived[i]])"
   ]
  },
  {
   "cell_type": "code",
   "execution_count": 17,
   "metadata": {},
   "outputs": [],
   "source": [
    "with open('submission.csv', 'w') as submissionFile:\n",
    "    writer = csv.writer(submissionFile)\n",
    "    writer.writerows(submission)"
   ]
  },
  {
   "cell_type": "code",
   "execution_count": null,
   "metadata": {},
   "outputs": [],
   "source": []
  }
 ],
 "metadata": {
  "kernelspec": {
   "display_name": "Python 3",
   "language": "python",
   "name": "python3"
  },
  "language_info": {
   "codemirror_mode": {
    "name": "ipython",
    "version": 3
   },
   "file_extension": ".py",
   "mimetype": "text/x-python",
   "name": "python",
   "nbconvert_exporter": "python",
   "pygments_lexer": "ipython3",
   "version": "3.7.3"
  }
 },
 "nbformat": 4,
 "nbformat_minor": 2
}
